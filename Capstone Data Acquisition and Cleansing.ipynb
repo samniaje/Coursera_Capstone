{
    "cells": [
        {
            "cell_type": "markdown",
            "metadata": {
                "collapsed": true
            },
            "source": "### 2. Data Acquisition and Cleansing"
        },
        {
            "cell_type": "markdown",
            "metadata": {},
            "source": "#### 2.1 Data Sources"
        },
        {
            "cell_type": "markdown",
            "metadata": {},
            "source": "The New York City neighborhood data used in this project is originally sourced from the NYU Spatial Data Repository (https://geo.nyu.edu/catalog/nyu_2451_34572). For convenience, the dataset will be accessed from the Cognitive Class course link https://cocl.us/new_york_dataset. Cognitive Class is an IBM-led initiative to democratize data knowledge and skills. New York City has a total of 5 boroughs and 306 neighborhoods. The dataset will be used to obtain neighborhood details, including borough, neighborhood name, latitude, and longitude before segmenting and exploring the neighborhoods. For ease of reference, this dataset will be referred to as the New York City Geospatial Dataset. \n\nThe second dataset will be scraped from the New York City Government website https://www1.nyc.gov/assets/planning/download/pdf/data-maps/nyc-population/census2010/t_pl_p3a_nta.pdf. The site contains 2010 population census details tabulated by neighborhood. For ease of reference, this dataset will be referred to as the New York City Population Dataset. \n\nFor a given neighborhood in the New York geospatial dataset, I will explore and segment nearby venues based on Foursquare location-based data and radius. Attributes such as venue name, category, latitude, and longitude will be explored. I will subsequently join the New York geospatial, Foursquare, and New York population dataframes. In the end, I endeavor to identify neighborhoods that have a higher Asian population density and lower Asian restaurant density. In the end, I will present a list of top 10 neighborhoods  and make a final choice for  a suitable neighborhood for a new Chinese restaurant. \n"
        },
        {
            "cell_type": "markdown",
            "metadata": {},
            "source": "#### 2.2 Data Cleansing"
        },
        {
            "cell_type": "markdown",
            "metadata": {},
            "source": "The following steps will be taken to cleanse the data:\n1.\tRemove records with no neighborhood names.\n2.\tFrom the New York population data, remove unwanted columns and borough names that were inadvertently scraped from the pdf source. \n3.\tDrop records of neighborhoods that do not have Asian population.\n4.\tDrop records where Foursquare categories are blank."
        },
        {
            "cell_type": "code",
            "execution_count": null,
            "metadata": {},
            "outputs": [],
            "source": ""
        }
    ],
    "metadata": {
        "kernelspec": {
            "display_name": "Python 3.6",
            "language": "python",
            "name": "python3"
        },
        "language_info": {
            "codemirror_mode": {
                "name": "ipython",
                "version": 3
            },
            "file_extension": ".py",
            "mimetype": "text/x-python",
            "name": "python",
            "nbconvert_exporter": "python",
            "pygments_lexer": "ipython3",
            "version": "3.6.9"
        }
    },
    "nbformat": 4,
    "nbformat_minor": 1
}