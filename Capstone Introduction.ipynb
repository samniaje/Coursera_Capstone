{
    "cells": [
        {
            "cell_type": "markdown",
            "metadata": {
                "collapsed": true
            },
            "source": "### Topic: Choosing a Location for a Chinese Restaurant in New York City, USA"
        },
        {
            "cell_type": "markdown",
            "metadata": {},
            "source": "### 1. Introduction"
        },
        {
            "cell_type": "markdown",
            "metadata": {},
            "source": "#### 1.1 Background"
        },
        {
            "cell_type": "markdown",
            "metadata": {},
            "source": "New York City is a major world financial hub, a leading tourist destination, and the largest city in the United States. \nAccording to the US Census Bureau (2019), New York had a total population of over 8.3 million, comprising of the following racial demographics: White (32.1%), Hispanic or Latino (29.1%),\nBlack or African American (24.3%), Asian (13.9%), American Indian and Alaska Native (0.4%), Native Hawaiian and Other Pacific Islander (0.1%),  and Two or More Races (3.5%). \nNew York is clearly a racially diverse city with a significant Asian population. As a resident of New York and an enthusiast of Chinese food, I would like to conduct a feasibility study to determine an ideal location for a Chinese restaurant. \n\nAccording to New York State\u2019s Office of State Comptroller (2014), the five counties with the highest concentrations of Asian New Yorkers were Queens (27%), Manhattan (14%), Brooklyn (13%), \nTompkins (12%), and Nassau (10%). In searching for an ideal location within New York City, I will pay attention to Queens, Manhattan, and Brooklyn out of the five boroughs owing to the \nlarger Asian population concentration. As recommended by Entrepreneur Media (2020), however, other factors must be taken into consideration, including  target market, customer base, restaurant\nservice style, and food concept before carving a niche for a restaurant business. These factors will be explored more in the following sections. \n"
        },
        {
            "cell_type": "code",
            "execution_count": null,
            "metadata": {},
            "outputs": [],
            "source": ""
        }
    ],
    "metadata": {
        "kernelspec": {
            "display_name": "Python 3.6",
            "language": "python",
            "name": "python3"
        },
        "language_info": {
            "codemirror_mode": {
                "name": "ipython",
                "version": 3
            },
            "file_extension": ".py",
            "mimetype": "text/x-python",
            "name": "python",
            "nbconvert_exporter": "python",
            "pygments_lexer": "ipython3",
            "version": "3.6.9"
        }
    },
    "nbformat": 4,
    "nbformat_minor": 1
}